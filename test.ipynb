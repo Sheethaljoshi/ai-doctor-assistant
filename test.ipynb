{
 "cells": [
  {
   "cell_type": "code",
   "execution_count": 1,
   "metadata": {},
   "outputs": [
    {
     "name": "stdout",
     "output_type": "stream",
     "text": [
      "VectorStore(id='vs_w8PIRwxhcRh1RMlUaklJeKGR', bytes=None, created_at=1718202539, file_counts=FileCounts(cancelled=0, completed=0, failed=0, in_progress=0, total=0), last_active_at=1718202539, metadata={}, name='Support FAQ', object='vector_store', status='completed', expires_after=None, expires_at=None, usage_bytes=0)\n"
     ]
    }
   ],
   "source": [
    "from openai import OpenAI\n",
    "client = OpenAI()\n",
    "\n",
    "\n",
    "\n",
    "vector_store = client.beta.vector_stores.create(\n",
    "  name=\"Support FAQ\"\n",
    ")\n",
    "print(vector_store)\n"
   ]
  },
  {
   "cell_type": "code",
   "execution_count": 4,
   "metadata": {},
   "outputs": [
    {
     "data": {
      "text/plain": [
       "FileObject(id='file-WsT8o08PaCV8NzfNx3uS8Cfd', bytes=902498, created_at=1718208151, filename='cardiology_text.pdf', object='file', purpose='assistants', status='processed', status_details=None)"
      ]
     },
     "execution_count": 4,
     "metadata": {},
     "output_type": "execute_result"
    }
   ],
   "source": [
    "from openai import OpenAI\n",
    "client = OpenAI()\n",
    "\n",
    "client.files.create(\n",
    "  file=open(\"cardiology_text.pdf\", \"rb\"),\n",
    "  purpose=\"assistants\"\n",
    ")\n"
   ]
  },
  {
   "cell_type": "code",
   "execution_count": 5,
   "metadata": {},
   "outputs": [
    {
     "name": "stdout",
     "output_type": "stream",
     "text": [
      "SyncCursorPage[VectorStoreFile](data=[], object='list', first_id=None, last_id=None, has_more=False)\n"
     ]
    }
   ],
   "source": [
    "from openai import OpenAI\n",
    "client = OpenAI()\n",
    "\n",
    "vector_store_files = client.beta.vector_stores.files.list(\n",
    "  vector_store_id=\"vs_w8PIRwxhcRh1RMlUaklJeKGR\"\n",
    ")\n",
    "print(vector_store_files)\n"
   ]
  },
  {
   "cell_type": "code",
   "execution_count": 6,
   "metadata": {},
   "outputs": [
    {
     "name": "stdout",
     "output_type": "stream",
     "text": [
      "VectorStoreFile(id='file-WsT8o08PaCV8NzfNx3uS8Cfd', created_at=1718208411, last_error=None, object='vector_store.file', status='in_progress', vector_store_id='vs_w8PIRwxhcRh1RMlUaklJeKGR', usage_bytes=0, chunking_strategy={'type': 'static', 'static': {'max_chunk_size_tokens': 800, 'chunk_overlap_tokens': 400}})\n"
     ]
    }
   ],
   "source": [
    "from openai import OpenAI\n",
    "client = OpenAI()\n",
    "\n",
    "vector_store_file = client.beta.vector_stores.files.create(\n",
    "  vector_store_id=\"vs_w8PIRwxhcRh1RMlUaklJeKGR\",\n",
    "  file_id=\"file-WsT8o08PaCV8NzfNx3uS8Cfd\"\n",
    ")\n",
    "print(vector_store_file)\n"
   ]
  },
  {
   "cell_type": "code",
   "execution_count": 7,
   "metadata": {},
   "outputs": [
    {
     "name": "stdout",
     "output_type": "stream",
     "text": [
      "SyncCursorPage[VectorStoreFile](data=[VectorStoreFile(id='file-WsT8o08PaCV8NzfNx3uS8Cfd', created_at=1718208411, last_error=None, object='vector_store.file', status='completed', vector_store_id='vs_w8PIRwxhcRh1RMlUaklJeKGR', usage_bytes=232127, chunking_strategy={'type': 'static', 'static': {'max_chunk_size_tokens': 800, 'chunk_overlap_tokens': 400}})], object='list', first_id='file-WsT8o08PaCV8NzfNx3uS8Cfd', last_id='file-WsT8o08PaCV8NzfNx3uS8Cfd', has_more=False)\n"
     ]
    }
   ],
   "source": [
    "from openai import OpenAI\n",
    "client = OpenAI()\n",
    "\n",
    "vector_store_files = client.beta.vector_stores.files.list(\n",
    "  vector_store_id=\"vs_w8PIRwxhcRh1RMlUaklJeKGR\"\n",
    ")\n",
    "print(vector_store_files)"
   ]
  },
  {
   "cell_type": "code",
   "execution_count": 8,
   "metadata": {},
   "outputs": [],
   "source": [
    "client = OpenAI()\n",
    "assistant = client.beta.assistants.create(\n",
    "        name=\"Personal Helper\",\n",
    "        instructions=\"You are a healthcare professional assisting a doctor in making a diagnosis. You are given a list of symptoms and a file containing medical knowledge on cardiology. Your job is to assist the doctor in making diagnoses by providing 10 probable diagnoses and their description in bullet points. \",\n",
    "        model=\"gpt-4-turbo\",\n",
    "        tools=[{\"type\": \"file_search\"}],\n",
    "    )\n",
    "\n",
    "assistant = client.beta.assistants.update(\n",
    "        assistant_id=assistant.id,\n",
    "        tool_resources={\"file_search\": {\"vector_store_ids\": ['vs_w8PIRwxhcRh1RMlUaklJeKGR']}},\n",
    "    )"
   ]
  }
 ],
 "metadata": {
  "kernelspec": {
   "display_name": "Python 3",
   "language": "python",
   "name": "python3"
  },
  "language_info": {
   "codemirror_mode": {
    "name": "ipython",
    "version": 3
   },
   "file_extension": ".py",
   "mimetype": "text/x-python",
   "name": "python",
   "nbconvert_exporter": "python",
   "pygments_lexer": "ipython3",
   "version": "3.12.2"
  },
  "orig_nbformat": 4
 },
 "nbformat": 4,
 "nbformat_minor": 2
}
